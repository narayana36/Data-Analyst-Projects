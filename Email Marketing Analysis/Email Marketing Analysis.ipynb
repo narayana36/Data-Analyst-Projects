{
 "cells": [
  {
   "cell_type": "markdown",
   "id": "88ea2e9e",
   "metadata": {},
   "source": [
    "- The marketing team of xyz company launched an email campaign. This site has email addresses from all the users who created an account in the past."
   ]
  },
  {
   "cell_type": "markdown",
   "id": "435b2b4b",
   "metadata": {},
   "source": [
    "- They want to know which types of users we have in our databases so that they can target their effective users based upon certain sanrio."
   ]
  },
  {
   "cell_type": "code",
   "execution_count": 1,
   "id": "b2fdac6b",
   "metadata": {},
   "outputs": [],
   "source": [
    "import pandas as pd"
   ]
  },
  {
   "cell_type": "code",
   "execution_count": 2,
   "id": "ff47d3ce",
   "metadata": {},
   "outputs": [
    {
     "data": {
      "text/html": [
       "<div>\n",
       "<style scoped>\n",
       "    .dataframe tbody tr th:only-of-type {\n",
       "        vertical-align: middle;\n",
       "    }\n",
       "\n",
       "    .dataframe tbody tr th {\n",
       "        vertical-align: top;\n",
       "    }\n",
       "\n",
       "    .dataframe thead th {\n",
       "        text-align: right;\n",
       "    }\n",
       "</style>\n",
       "<table border=\"1\" class=\"dataframe\">\n",
       "  <thead>\n",
       "    <tr style=\"text-align: right;\">\n",
       "      <th></th>\n",
       "      <th>Column1</th>\n",
       "      <th>Type</th>\n",
       "      <th>Status</th>\n",
       "      <th>City</th>\n",
       "      <th>State</th>\n",
       "      <th>PostalCode</th>\n",
       "      <th>GenderCode</th>\n",
       "      <th>BirthDate</th>\n",
       "      <th>MaritalStatus</th>\n",
       "      <th>Enrolled on</th>\n",
       "      <th>Living status</th>\n",
       "    </tr>\n",
       "  </thead>\n",
       "  <tbody>\n",
       "    <tr>\n",
       "      <th>0</th>\n",
       "      <td>00005DCC-4E51-41A5-91C5-6635B24C7D17</td>\n",
       "      <td>Business</td>\n",
       "      <td>InActive</td>\n",
       "      <td>NaN</td>\n",
       "      <td>NaN</td>\n",
       "      <td>500024.0</td>\n",
       "      <td>MALE</td>\n",
       "      <td>2018-08-12 17:07:12.430</td>\n",
       "      <td>U</td>\n",
       "      <td>2018-08-12 17:07:12.430</td>\n",
       "      <td>couple with children</td>\n",
       "    </tr>\n",
       "    <tr>\n",
       "      <th>1</th>\n",
       "      <td>0001F49E-9FE7-11e8-9E9C-00505682069A</td>\n",
       "      <td>Individual</td>\n",
       "      <td>Active</td>\n",
       "      <td>Valsad</td>\n",
       "      <td>GUJARAT</td>\n",
       "      <td>396001.0</td>\n",
       "      <td>MALE</td>\n",
       "      <td>1992-11-02 00:00:00.000</td>\n",
       "      <td>M</td>\n",
       "      <td>2018-08-14 18:02:46.000</td>\n",
       "      <td>couple with children</td>\n",
       "    </tr>\n",
       "    <tr>\n",
       "      <th>2</th>\n",
       "      <td>0001F4A2-9FE7-11e8-9E9C-00505682069A</td>\n",
       "      <td>Individual</td>\n",
       "      <td>Active</td>\n",
       "      <td>Secunderabad</td>\n",
       "      <td>TELANGANA</td>\n",
       "      <td>500011.0</td>\n",
       "      <td>FEMALE</td>\n",
       "      <td>1988-11-25 00:00:00.000</td>\n",
       "      <td>M</td>\n",
       "      <td>2018-08-14 18:05:23.000</td>\n",
       "      <td>couple with children</td>\n",
       "    </tr>\n",
       "    <tr>\n",
       "      <th>3</th>\n",
       "      <td>0001F4CD-9FE7-11e8-9E9C-00505682069A</td>\n",
       "      <td>Individual</td>\n",
       "      <td>Active</td>\n",
       "      <td>Nalgonda</td>\n",
       "      <td>TELANGANA</td>\n",
       "      <td>508101.0</td>\n",
       "      <td>MALE</td>\n",
       "      <td>1983-06-13 00:00:00.000</td>\n",
       "      <td>M</td>\n",
       "      <td>2018-08-14 18:37:33.000</td>\n",
       "      <td>couple with children</td>\n",
       "    </tr>\n",
       "    <tr>\n",
       "      <th>4</th>\n",
       "      <td>0001F4DE-9FE7-11e8-9E9C-00505682069A</td>\n",
       "      <td>Individual</td>\n",
       "      <td>Active</td>\n",
       "      <td>Hyderabad</td>\n",
       "      <td>TELANGANA</td>\n",
       "      <td>500028.0</td>\n",
       "      <td>MALE</td>\n",
       "      <td>1975-07-13 00:00:00.000</td>\n",
       "      <td>M</td>\n",
       "      <td>2018-08-14 18:47:00.000</td>\n",
       "      <td>couple with children</td>\n",
       "    </tr>\n",
       "  </tbody>\n",
       "</table>\n",
       "</div>"
      ],
      "text/plain": [
       "                                Column1        Type    Status          City  \\\n",
       "0  00005DCC-4E51-41A5-91C5-6635B24C7D17    Business  InActive           NaN   \n",
       "1  0001F49E-9FE7-11e8-9E9C-00505682069A  Individual    Active        Valsad   \n",
       "2  0001F4A2-9FE7-11e8-9E9C-00505682069A  Individual    Active  Secunderabad   \n",
       "3  0001F4CD-9FE7-11e8-9E9C-00505682069A  Individual    Active      Nalgonda   \n",
       "4  0001F4DE-9FE7-11e8-9E9C-00505682069A  Individual    Active     Hyderabad   \n",
       "\n",
       "       State  PostalCode GenderCode               BirthDate MaritalStatus  \\\n",
       "0        NaN    500024.0       MALE 2018-08-12 17:07:12.430             U   \n",
       "1    GUJARAT    396001.0       MALE 1992-11-02 00:00:00.000             M   \n",
       "2  TELANGANA    500011.0     FEMALE 1988-11-25 00:00:00.000             M   \n",
       "3  TELANGANA    508101.0       MALE 1983-06-13 00:00:00.000             M   \n",
       "4  TELANGANA    500028.0       MALE 1975-07-13 00:00:00.000             M   \n",
       "\n",
       "             Enrolled on          Living status  \n",
       "0 2018-08-12 17:07:12.430  couple with children  \n",
       "1 2018-08-14 18:02:46.000  couple with children  \n",
       "2 2018-08-14 18:05:23.000  couple with children  \n",
       "3 2018-08-14 18:37:33.000  couple with children  \n",
       "4 2018-08-14 18:47:00.000  couple with children  "
      ]
     },
     "execution_count": 2,
     "metadata": {},
     "output_type": "execute_result"
    }
   ],
   "source": [
    "df=pd.read_excel(r\"C:\\Users\\pagad\\Downloads\\Email Marketing Analysis.xlsx\")\n",
    "df.head(5)"
   ]
  },
  {
   "cell_type": "code",
   "execution_count": 3,
   "id": "4d904ee2",
   "metadata": {},
   "outputs": [
    {
     "data": {
      "text/plain": [
       "(10000, 11)"
      ]
     },
     "execution_count": 3,
     "metadata": {},
     "output_type": "execute_result"
    }
   ],
   "source": [
    "df.shape"
   ]
  },
  {
   "cell_type": "code",
   "execution_count": 4,
   "id": "3a855eaa",
   "metadata": {},
   "outputs": [
    {
     "data": {
      "text/plain": [
       "Column1            0\n",
       "Type               0\n",
       "Status             0\n",
       "City              73\n",
       "State            126\n",
       "PostalCode         1\n",
       "GenderCode         0\n",
       "BirthDate          0\n",
       "MaritalStatus      0\n",
       "Enrolled on        0\n",
       "Living status      0\n",
       "dtype: int64"
      ]
     },
     "execution_count": 4,
     "metadata": {},
     "output_type": "execute_result"
    }
   ],
   "source": [
    "df.isnull().sum()"
   ]
  },
  {
   "cell_type": "code",
   "execution_count": 5,
   "id": "367d1032",
   "metadata": {},
   "outputs": [
    {
     "data": {
      "text/plain": [
       "Index(['Column1', 'Type', 'Status', 'City', 'State', 'PostalCode',\n",
       "       'GenderCode', 'BirthDate', 'MaritalStatus', 'Enrolled on ',\n",
       "       'Living status'],\n",
       "      dtype='object')"
      ]
     },
     "execution_count": 5,
     "metadata": {},
     "output_type": "execute_result"
    }
   ],
   "source": [
    "df.columns"
   ]
  },
  {
   "cell_type": "code",
   "execution_count": 6,
   "id": "193fbb60",
   "metadata": {},
   "outputs": [
    {
     "data": {
      "text/plain": [
       "Individual    9736\n",
       "Business       264\n",
       "Name: Type, dtype: int64"
      ]
     },
     "execution_count": 6,
     "metadata": {},
     "output_type": "execute_result"
    }
   ],
   "source": [
    "df['Type'].value_counts()"
   ]
  },
  {
   "cell_type": "code",
   "execution_count": 7,
   "id": "2cecef90",
   "metadata": {},
   "outputs": [
    {
     "data": {
      "text/plain": [
       "Hyderabad         2639\n",
       "Secunderabad      2093\n",
       "Mumbai            1498\n",
       "Hyderabad City     976\n",
       "Thane              227\n",
       "                  ... \n",
       "Baramati             1\n",
       "Dimapur              1\n",
       "Ajmer                1\n",
       "Faridkot             1\n",
       "Hindupur             1\n",
       "Name: City, Length: 388, dtype: int64"
      ]
     },
     "execution_count": 7,
     "metadata": {},
     "output_type": "execute_result"
    }
   ],
   "source": [
    "df['City'].value_counts()"
   ]
  },
  {
   "cell_type": "markdown",
   "id": "2de433cf",
   "metadata": {},
   "source": [
    "- Unneccesary Columns\n",
    "    - Columns\n",
    "    * PostalCode\n",
    "    * Birthday"
   ]
  },
  {
   "cell_type": "markdown",
   "id": "f499204d",
   "metadata": {},
   "source": [
    "- Extract features our Enrolled on column\n",
    "   - Date & Time"
   ]
  },
  {
   "cell_type": "code",
   "execution_count": null,
   "id": "cfe730ae",
   "metadata": {},
   "outputs": [],
   "source": []
  }
 ],
 "metadata": {
  "kernelspec": {
   "display_name": "Python 3 (ipykernel)",
   "language": "python",
   "name": "python3"
  },
  "language_info": {
   "codemirror_mode": {
    "name": "ipython",
    "version": 3
   },
   "file_extension": ".py",
   "mimetype": "text/x-python",
   "name": "python",
   "nbconvert_exporter": "python",
   "pygments_lexer": "ipython3",
   "version": "3.9.13"
  }
 },
 "nbformat": 4,
 "nbformat_minor": 5
}
